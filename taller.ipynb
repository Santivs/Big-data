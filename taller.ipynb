{
  "nbformat": 4,
  "nbformat_minor": 0,
  "metadata": {
    "colab": {
      "provenance": []
    },
    "kernelspec": {
      "name": "python3",
      "display_name": "Python 3"
    },
    "language_info": {
      "name": "python"
    }
  },
  "cells": [
    {
      "cell_type": "code",
      "execution_count": null,
      "metadata": {
        "id": "anF-eOG-IpXv"
      },
      "outputs": [],
      "source": [
        "#Punto 1\n"
      ]
    },
    {
      "cell_type": "code",
      "source": [
        "nombre = \"Santiago\"  #Se definen las variables \"nombre\"y \"edad\n",
        "edad = 22\n",
        "mensaje = f\"Hola, me llamo {nombre} y tengo {edad} años.\" #posteriormente se define la variable \"mensaje\" dentro de la cual se incluye el saludo, el nombre y la edad\n",
        "print(mensaje) #para mostrar el resultado se usa la funcion print"
      ],
      "metadata": {
        "colab": {
          "base_uri": "https://localhost:8080/"
        },
        "id": "8zd5WakBIzBf",
        "outputId": "12489a1a-8571-4ce1-94ae-11ff3e2f3f37"
      },
      "execution_count": null,
      "outputs": [
        {
          "output_type": "stream",
          "name": "stdout",
          "text": [
            "Hola, me llamo Santiago y tengo 22 años.\n"
          ]
        }
      ]
    },
    {
      "cell_type": "code",
      "source": [
        "#Punto 2"
      ],
      "metadata": {
        "id": "Y9ywiwyKJfhn"
      },
      "execution_count": null,
      "outputs": []
    },
    {
      "cell_type": "code",
      "source": [
        "import math\n",
        "\n",
        "# Solicitar al usuario que ingrese el radio\n",
        "radio = float(input(\"Por favor, ingresa el radio del círculo: \"))\n",
        "\n",
        "# Calcular el área del círculo\n",
        "area = math.pi * (radio ** 2)\n",
        "\n",
        "# Mostrar el resultado\n",
        "print(f\"El área del círculo con radio {radio} es {area:.2f}\")\n",
        "\n"
      ],
      "metadata": {
        "colab": {
          "base_uri": "https://localhost:8080/"
        },
        "id": "aiRJknhWKFjo",
        "outputId": "a3665a6f-ca76-4ccd-9865-a660ad936475"
      },
      "execution_count": null,
      "outputs": [
        {
          "output_type": "stream",
          "name": "stdout",
          "text": [
            "Por favor, ingresa el radio del círculo: 7\n",
            "El área del círculo con radio 7.0 es 153.94\n"
          ]
        }
      ]
    },
    {
      "cell_type": "code",
      "source": [
        "# Punto 3"
      ],
      "metadata": {
        "id": "2gUeVyjOMpAO"
      },
      "execution_count": null,
      "outputs": []
    },
    {
      "cell_type": "code",
      "source": [
        "def calcular_promedio(lista_numeros): #Funcion definida\n",
        "    total = sum(lista_numeros)  #Suma de los numeros dentro de la lista\n",
        "    cantidad = len(lista_numeros) #Para conocer el tamaño de la lista\n",
        "\n",
        "    if cantidad == 0:\n",
        "        return 0  # Evitar la división por cero\n",
        "\n",
        "    promedio = total / cantidad\n",
        "    return promedio\n",
        "\n",
        "numeros = [36, 14, 56, 87, 73]\n",
        "promedio_resultado = calcular_promedio(numeros)\n",
        "print(f\"El promedio de la lista es: {promedio_resultado:.2f}\")\n",
        "\n"
      ],
      "metadata": {
        "colab": {
          "base_uri": "https://localhost:8080/"
        },
        "id": "N15edXvXMt3J",
        "outputId": "516af638-1e06-4577-ae7c-47c53a65c484"
      },
      "execution_count": null,
      "outputs": [
        {
          "output_type": "stream",
          "name": "stdout",
          "text": [
            "El promedio de la lista es: 53.20\n"
          ]
        }
      ]
    },
    {
      "cell_type": "code",
      "source": [
        "# Punto 4"
      ],
      "metadata": {
        "id": "yyzKlAxoOBuO"
      },
      "execution_count": null,
      "outputs": []
    },
    {
      "cell_type": "code",
      "source": [
        "numeros = [5, 12, 8, 15, 7, 25, 3, 18, 10, 21, 19, 5, 13, 2, 60]\n",
        "\n",
        "print(\"Números mayores que 10:\")\n",
        "for numero in numeros:\n",
        "    if numero > 10:\n",
        "        print(numero)\n"
      ],
      "metadata": {
        "colab": {
          "base_uri": "https://localhost:8080/"
        },
        "id": "J2l6083oQSIR",
        "outputId": "c42b9dc4-8559-4024-fd24-303332ffce34"
      },
      "execution_count": null,
      "outputs": [
        {
          "output_type": "stream",
          "name": "stdout",
          "text": [
            "Números mayores que 10:\n",
            "12\n",
            "15\n",
            "25\n",
            "18\n",
            "21\n",
            "19\n",
            "13\n",
            "60\n"
          ]
        }
      ]
    },
    {
      "cell_type": "code",
      "source": [
        "# Punto 5"
      ],
      "metadata": {
        "id": "i5MAompdRGAq"
      },
      "execution_count": null,
      "outputs": []
    },
    {
      "cell_type": "code",
      "source": [
        "# Definir el diccionario de precios\n",
        "precios_productos = {\n",
        "    \"Gomitas\": 2.000,\n",
        "    \"Colombiana\": 3.500,\n",
        "    \"Atun\": 18.000}\n",
        "\n",
        "# Solicitar al usuario que ingrese el nombre del producto\n",
        "\n",
        "producto_ingresado = input(\"Ingresa el nombre de un producto: \") #Funcion Input para habilitar texto\n",
        "\n",
        "# Buscar y mostrar el precio del producto ingresado\n",
        "\n",
        "if producto_ingresado in precios_productos:\n",
        "    precio = precios_productos[producto_ingresado]\n",
        "    print(f\"El precio de '{producto_ingresado}' es: {precio:.3f}\") #3f para mostrar 3 digitos\n",
        "else:\n",
        "    print(f\"No tenemos ese producto '{producto_ingresado}'.\")\n"
      ],
      "metadata": {
        "colab": {
          "base_uri": "https://localhost:8080/"
        },
        "id": "f9yJaPiVRNSr",
        "outputId": "8cb12919-fce0-452b-bfd0-e2817fa1abc1"
      },
      "execution_count": null,
      "outputs": [
        {
          "output_type": "stream",
          "name": "stdout",
          "text": [
            "Ingresa el nombre de un producto: Gomitas\n",
            "El precio de 'Gomitas' es: 2.000\n"
          ]
        }
      ]
    },
    {
      "cell_type": "code",
      "source": [
        "# Punto 6"
      ],
      "metadata": {
        "id": "XZIrrvGbTU7L"
      },
      "execution_count": null,
      "outputs": []
    },
    {
      "cell_type": "code",
      "source": [
        "def es_primo(numero): #Funcion definida\n",
        "    if numero <= 1:\n",
        "      return False\n",
        "    elif numero ==2:\n",
        "      return True\n",
        "    else:\n",
        "      for i in  range(2,numero):  #definir un rango de 2 hasta N\n",
        "        if numero % i ==0:\n",
        "          return False\n",
        "    return True\n",
        "print( es_primo(-1))\n",
        "\n"
      ],
      "metadata": {
        "colab": {
          "base_uri": "https://localhost:8080/"
        },
        "id": "QhXeeyk7TXTf",
        "outputId": "3ace65da-d6f6-4435-84a5-01e89fdd7293"
      },
      "execution_count": null,
      "outputs": [
        {
          "output_type": "stream",
          "name": "stdout",
          "text": [
            "False\n"
          ]
        }
      ]
    },
    {
      "cell_type": "code",
      "source": [
        "# Punto 7"
      ],
      "metadata": {
        "id": "n1bvH6s3XRME"
      },
      "execution_count": null,
      "outputs": []
    },
    {
      "cell_type": "code",
      "source": [
        "nombres = [\"Juan\", \"Nataly\", \"Carlos\", \"Santiago\", \"Salome\", \"Gabriela\", \"Alex\", \"Miguel\", \"Pedro\"]\n",
        "\n",
        "indice = 0\n",
        "while indice < len(nombres):         # codigo WHILE para generar un bucle\n",
        "    nombre_actual = nombres[indice]\n",
        "    print(nombre_actual)\n",
        "    if nombre_actual == \"Alex\":    # cuando llegue al nombre Alex, el codigo \"break\" rompe el bucle\n",
        "        break\n",
        "    indice += 1\n"
      ],
      "metadata": {
        "colab": {
          "base_uri": "https://localhost:8080/"
        },
        "id": "Gudhs2dzXShu",
        "outputId": "65f714c4-db97-428f-bc52-5a54808ba92e"
      },
      "execution_count": null,
      "outputs": [
        {
          "output_type": "stream",
          "name": "stdout",
          "text": [
            "Juan\n",
            "Nataly\n",
            "Carlos\n",
            "Santiago\n",
            "Salome\n",
            "Gabriela\n",
            "Alex\n"
          ]
        }
      ]
    },
    {
      "cell_type": "code",
      "source": [
        "# Punto 8"
      ],
      "metadata": {
        "id": "Hv_zqgU6Y1ME"
      },
      "execution_count": null,
      "outputs": []
    },
    {
      "cell_type": "code",
      "source": [
        "def invertir_cadena(cadena):\n",
        "    cadena_invertida = cadena[::-1]   # el -1 da conteo de derecha a izquierda\n",
        "    return cadena_invertida\n",
        "\n",
        "print(invertir_cadena(\"Santiago\"))\n"
      ],
      "metadata": {
        "colab": {
          "base_uri": "https://localhost:8080/"
        },
        "id": "2ml1lwxEaZEj",
        "outputId": "c1b163d0-b490-44fc-91a9-d3c6989cb306"
      },
      "execution_count": null,
      "outputs": [
        {
          "output_type": "stream",
          "name": "stdout",
          "text": [
            "ogaitnaS\n"
          ]
        }
      ]
    },
    {
      "cell_type": "code",
      "source": [
        "# Punto 9"
      ],
      "metadata": {
        "id": "tL_GBqJpbPhy"
      },
      "execution_count": null,
      "outputs": []
    },
    {
      "cell_type": "code",
      "source": [
        "numeros_pares = [x for x in range(2, 21, 2)]\n",
        "\n",
        "print(numeros_pares)\n"
      ],
      "metadata": {
        "colab": {
          "base_uri": "https://localhost:8080/"
        },
        "id": "xkvn2oMHbRKq",
        "outputId": "e2de4781-fdd6-41c1-b919-3e5a686f63b8"
      },
      "execution_count": null,
      "outputs": [
        {
          "output_type": "stream",
          "name": "stdout",
          "text": [
            "[2, 4, 6, 8, 10, 12, 14, 16, 18, 20]\n"
          ]
        }
      ]
    },
    {
      "cell_type": "code",
      "source": [
        "# Punto 10"
      ],
      "metadata": {
        "id": "_pisQrLFcxDn"
      },
      "execution_count": null,
      "outputs": []
    },
    {
      "cell_type": "code",
      "source": [
        "def generar_serie_fibonacci(n):\n",
        "    serie = [0, 1]  # Inicializamos la serie con los primeros dos términos\n",
        "    while len(serie) < n:\n",
        "        siguiente = serie[-1] + serie[-2]\n",
        "        serie.append(siguiente)\n",
        "    return serie\n",
        "\n",
        "# Solicitar al usuario la cantidad de términos que desea generar\n",
        "cantidad_terminos = int(input(\"Ingresa la cantidad de términos de la serie de Fibonacci que deseas generar: \"))\n",
        "\n",
        "# Generar y mostrar la serie de Fibonacci\n",
        "serie_fibonacci = generar_serie_fibonacci(cantidad_terminos)\n",
        "print(\"Serie de Fibonacci:\")\n",
        "print(serie_fibonacci)\n"
      ],
      "metadata": {
        "colab": {
          "base_uri": "https://localhost:8080/"
        },
        "id": "y05r8ZkxcyuX",
        "outputId": "1ad2ac34-359f-4ead-8431-7556b3f32386"
      },
      "execution_count": null,
      "outputs": [
        {
          "output_type": "stream",
          "name": "stdout",
          "text": [
            "Ingresa la cantidad de términos de la serie de Fibonacci que deseas generar: 7\n",
            "Serie de Fibonacci:\n",
            "[0, 1, 1, 2, 3, 5, 8]\n"
          ]
        }
      ]
    },
    {
      "cell_type": "code",
      "source": [
        "# Punto 11"
      ],
      "metadata": {
        "id": "IrskdB7-fS6S"
      },
      "execution_count": null,
      "outputs": []
    },
    {
      "cell_type": "code",
      "source": [
        "def calcular_interes_simple(principal, tasa, tiempo):\n",
        "    interes = (principal * tasa * tiempo) / 100\n",
        "    return interes\n",
        "\n",
        "print(calcular_interes_simple(500, 10, 5))\n"
      ],
      "metadata": {
        "colab": {
          "base_uri": "https://localhost:8080/"
        },
        "id": "9kQ7iWLpfVSS",
        "outputId": "dc3d49a5-15f7-4fab-9c92-ce8aa619df90"
      },
      "execution_count": null,
      "outputs": [
        {
          "output_type": "stream",
          "name": "stdout",
          "text": [
            "250.0\n"
          ]
        }
      ]
    },
    {
      "cell_type": "code",
      "source": [
        "# Punto 12"
      ],
      "metadata": {
        "id": "AgaR07oLhWRs"
      },
      "execution_count": null,
      "outputs": []
    },
    {
      "cell_type": "code",
      "source": [
        "def calcular_promedio_precios(precios):\n",
        "    if not precios:\n",
        "        return None  # Devolvemos None si la lista está vacía\n",
        "    suma = sum(precios)\n",
        "    promedio = suma / len(precios) # formula para obtener el promedio\n",
        "    return promedio\n",
        "\n",
        "precios_acciones = [50.25, 52.10, 49.75, 53.80, 51.50] #lista de precios definida\n",
        "\n",
        "promedio_precios = calcular_promedio_precios(precios_acciones)\n",
        "\n",
        "print(f\"El promedio de la lista es: {promedio_precios:.3f}\")\n",
        "\n",
        "\n"
      ],
      "metadata": {
        "colab": {
          "base_uri": "https://localhost:8080/"
        },
        "id": "XPaQglVbhYFN",
        "outputId": "6223c179-f186-41fb-e3d7-f260c80d5186"
      },
      "execution_count": null,
      "outputs": [
        {
          "output_type": "stream",
          "name": "stdout",
          "text": [
            "El promedio de la lista es: 51.480\n"
          ]
        }
      ]
    },
    {
      "cell_type": "code",
      "source": [
        "# Punto 13"
      ],
      "metadata": {
        "id": "nmhWEm5UkqHo"
      },
      "execution_count": null,
      "outputs": []
    },
    {
      "cell_type": "code",
      "source": [
        "def convertir_dolares_a_euros(cantidad_dolares, tasa_cambio):\n",
        "    cantidad_euros = cantidad_dolares * tasa_cambio\n",
        "    return cantidad_euros\n",
        "\n",
        "# Tasa de cambio dólar a euro (valor ficticio)\n",
        "tasa_cambio_dolar_euro = 0.85\n",
        "\n",
        "print(convertir_dolares_a_euros(3500, 0.85))\n"
      ],
      "metadata": {
        "colab": {
          "base_uri": "https://localhost:8080/"
        },
        "id": "5Rz2R_bxkt_N",
        "outputId": "27638ec5-1dac-4e17-ffc6-cd0832fb9dbf"
      },
      "execution_count": null,
      "outputs": [
        {
          "output_type": "stream",
          "name": "stdout",
          "text": [
            "2975.0\n"
          ]
        }
      ]
    },
    {
      "cell_type": "code",
      "source": [
        "# Punto 14"
      ],
      "metadata": {
        "id": "yvfJ4RYqmUnB"
      },
      "execution_count": null,
      "outputs": []
    },
    {
      "cell_type": "code",
      "source": [
        "print(\"Ingrese el número\")\n",
        "num= int(input())   #codigo que pedira al usuario digitar el numero\n",
        "fact=1\n",
        "for i in range (1, num+1): # genera un rango que considere desde el numero n\n",
        "  fact*=i\n",
        "print(\"El numero factorial de\", num, \"es:\", fact)"
      ],
      "metadata": {
        "colab": {
          "base_uri": "https://localhost:8080/"
        },
        "id": "qShANKDFoYSJ",
        "outputId": "85c3ba01-3be1-46be-91e2-096ab841a8dd"
      },
      "execution_count": null,
      "outputs": [
        {
          "output_type": "stream",
          "name": "stdout",
          "text": [
            "Ingrese el número\n",
            "7\n",
            "El numero factorial de 7 es: 5040\n"
          ]
        }
      ]
    },
    {
      "cell_type": "code",
      "source": [
        "# Punto 15"
      ],
      "metadata": {
        "id": "zhe2y5sgrJWb"
      },
      "execution_count": null,
      "outputs": []
    },
    {
      "cell_type": "code",
      "source": [
        "\n",
        "def cuenta_con_saldo_mas_alto(cuentas):\n",
        "    if not cuentas:\n",
        "        return None\n",
        "\n",
        "    cuenta_mas_alta = max(cuentas, key=cuentas.get) # max devuelve el valor más alto de un iterable Y  #get para utilizar el valor del dicci\n",
        "    return cuenta_mas_alta\n",
        "\n",
        "# Diccionario de cuentas bancarias (nombre: saldo)\n",
        "cuentas_bancarias = {\n",
        "    \"Juan\": 5000,\n",
        "    \"Marta\": 7500,\n",
        "    \"Carlos\": 3000,\n",
        "    \"Gabriela\": 9000,\n",
        "    \"Angel\":11000,\n",
        "    \"Pedro\": 6200}\n",
        "\n",
        "#  función para encontrar la cuenta con el saldo más alto\n",
        "cuenta_con_saldo_alto = cuenta_con_saldo_mas_alto(cuentas_bancarias)\n",
        "\n",
        "if cuenta_con_saldo_alto is not None:\n",
        "    saldo_mas_alto = cuentas_bancarias[cuenta_con_saldo_alto]\n",
        "    print(f\"La cuenta con el saldo más alto es de {cuenta_con_saldo_alto} con un saldo de {saldo_mas_alto}.\")\n",
        "else:\n",
        "    print(\"No se encontraron cuentas en el diccionario.\")\n"
      ],
      "metadata": {
        "colab": {
          "base_uri": "https://localhost:8080/"
        },
        "id": "hXCtMXBYrW-_",
        "outputId": "685aa718-ee1f-48da-e9e1-684967e2e2a3"
      },
      "execution_count": null,
      "outputs": [
        {
          "output_type": "stream",
          "name": "stdout",
          "text": [
            "La cuenta con el saldo más alto es de Ana con un saldo de 9000.\n"
          ]
        }
      ]
    },
    {
      "cell_type": "code",
      "source": [
        "# Punto 16"
      ],
      "metadata": {
        "id": "6ZNJE-UlrOeX"
      },
      "execution_count": null,
      "outputs": []
    },
    {
      "cell_type": "code",
      "source": [
        "def calcular_numero_triangular(n):\n",
        "    return n * (n + 1) // 2\n",
        "\n",
        "# Solicitar al usuario la cantidad de números triangulares que desea calcular\n",
        "cantidad_numeros = int(input(\"Ingresa la cantidad de números triangulares que deseas calcular: \"))\n",
        "\n",
        "# Calcular y mostrar los números triangulares\n",
        "for i in range(1, cantidad_numeros + 1):\n",
        "    numero_triangular = calcular_numero_triangular(i)\n",
        "    print(f\"El número triangular {i} es: {numero_triangular}\")\n",
        "\n"
      ],
      "metadata": {
        "colab": {
          "base_uri": "https://localhost:8080/"
        },
        "id": "5tSWw-KSrSlS",
        "outputId": "235062ca-a46d-4860-c7af-9cc7453588f3"
      },
      "execution_count": null,
      "outputs": [
        {
          "output_type": "stream",
          "name": "stdout",
          "text": [
            "Ingresa la cantidad de números triangulares que deseas calcular: 3\n",
            "El número triangular 1 es: 1\n",
            "El número triangular 2 es: 3\n",
            "El número triangular 3 es: 6\n"
          ]
        }
      ]
    },
    {
      "cell_type": "code",
      "source": [
        "# Punto 17"
      ],
      "metadata": {
        "id": "vgNEg5oSr_-C"
      },
      "execution_count": null,
      "outputs": []
    },
    {
      "cell_type": "code",
      "source": [
        "def calcular_descuento(precio_original, porcentaje_descuento):\n",
        "    if porcentaje_descuento < 0 or porcentaje_descuento > 100:\n",
        "        return None  # Devolvemos None si el porcentaje de descuento es inválido\n",
        "    descuento = precio_original * (porcentaje_descuento / 100)\n",
        "    precio_final = precio_original - descuento\n",
        "    return precio_final\n",
        "\n",
        "precio_original = float(input(\"Ingresa el precio original del artículo: \"))\n",
        "porcentaje_descuento = float(input(\"Ingresa el porcentaje de descuento (%): \"))\n",
        "\n",
        "precio_final = calcular_descuento(precio_original, porcentaje_descuento)\n",
        "\n",
        "if precio_final is not None:\n",
        "    print(f\"El precio final después del descuento es: {precio_final:.2f}\")\n",
        "else:\n",
        "    print(\"El porcentaje de descuento ingresado es inválido.\")\n",
        "\n",
        "\n"
      ],
      "metadata": {
        "colab": {
          "base_uri": "https://localhost:8080/"
        },
        "id": "xNd-CUTRsB4H",
        "outputId": "12a0440e-c913-4266-aa05-d058d2827700"
      },
      "execution_count": null,
      "outputs": [
        {
          "output_type": "stream",
          "name": "stdout",
          "text": [
            "Ingresa el precio original del artículo: 5000\n",
            "Ingresa el porcentaje de descuento (%): 50\n",
            "El precio final después del descuento es: 2500.00\n"
          ]
        }
      ]
    },
    {
      "cell_type": "code",
      "source": [
        "# Punto 18"
      ],
      "metadata": {
        "id": "GVEeeUaxsroq"
      },
      "execution_count": null,
      "outputs": []
    },
    {
      "cell_type": "code",
      "source": [
        "def pares(numeros):\n",
        "  numeros_pares = []\n",
        "  for n in numeros:\n",
        "    if n % 2 == 0:\n",
        "      numeros_pares.append(n)\n",
        "  return numeros_pares\n",
        "\n",
        "numeros = [1,2,3,4,5,6,7,8,10,11,12,13,14,15,16]\n",
        "resultado = pares(numeros)\n",
        "\n",
        "print(numeros)\n",
        "print(resultado)"
      ],
      "metadata": {
        "id": "y1dphg33stou",
        "colab": {
          "base_uri": "https://localhost:8080/"
        },
        "outputId": "6dea8e2e-ede0-4f1c-b776-a881699326ad"
      },
      "execution_count": null,
      "outputs": [
        {
          "output_type": "stream",
          "name": "stdout",
          "text": [
            "[1, 2, 3, 4, 5, 6, 7, 8, 10, 11, 12, 13, 14, 15, 16]\n",
            "[2, 4, 6, 8, 10, 12, 14, 16]\n"
          ]
        }
      ]
    },
    {
      "cell_type": "code",
      "source": [
        "# Punto 19"
      ],
      "metadata": {
        "id": "PoreDh_Yh1lq"
      },
      "execution_count": null,
      "outputs": []
    },
    {
      "cell_type": "code",
      "source": [
        "lista = []\n",
        "\n",
        "cantidad = int(input(\"¿Cuantos números desea ingresar?\")) # variable para ingresar texto\n",
        "i=1\n",
        "while i <= cantidad:   #ciclo de repeticion\n",
        "  n = int(input(f\"{i} ingrese un número\"))\n",
        "  lista.append(n)\n",
        "  i+=1\n",
        "print(\"numero mayor\", max(lista)) #mostrar numero más grande\n",
        "print(\"numero mayor\", min(lista)) #mostrar numero más pequeño"
      ],
      "metadata": {
        "colab": {
          "base_uri": "https://localhost:8080/"
        },
        "id": "sNs4arGjjhuC",
        "outputId": "b3beda37-6deb-4e7e-b7c4-8b2c1337cde8"
      },
      "execution_count": null,
      "outputs": [
        {
          "output_type": "stream",
          "name": "stdout",
          "text": [
            "¿Cuantos números desea ingresar?3\n",
            "1 ingrese un número2\n",
            "2 ingrese un número4\n",
            "3 ingrese un número7\n",
            "numero mayor 7\n",
            "numero mayor 2\n"
          ]
        }
      ]
    },
    {
      "cell_type": "code",
      "source": [
        "# Punto 20"
      ],
      "metadata": {
        "id": "vQn0jYO1lTpe"
      },
      "execution_count": null,
      "outputs": []
    },
    {
      "cell_type": "code",
      "source": [
        "def generar_secuencia_pell(n):\n",
        "    if n == 1:\n",
        "        return [0]\n",
        "    elif n == 2:\n",
        "        return [0, 1]\n",
        "    secuencia = [0, 1]\n",
        "    for i in range(2, n):\n",
        "        siguiente = 2 * secuencia[i - 1] + secuencia[i - 2]\n",
        "        secuencia.append(siguiente)\n",
        "    return secuencia\n",
        "\n",
        "# Solicitar al usuario la cantidad de términos que desea generar\n",
        "cantidad_terminos = int(input(\"Ingresa la cantidad de términos de la secuencia de Pell que deseas generar: \"))\n",
        "\n",
        "# Generar y mostrar la secuencia de Pell\n",
        "secuencia_pell = generar_secuencia_pell(cantidad_terminos)\n",
        "print(\"Secuencia de Pell:\")\n",
        "print(secuencia_pell)\n"
      ],
      "metadata": {
        "colab": {
          "base_uri": "https://localhost:8080/"
        },
        "id": "6UvXnh3gltzC",
        "outputId": "618b36db-f1cf-4dd8-e21e-7d5e610b4855"
      },
      "execution_count": null,
      "outputs": [
        {
          "output_type": "stream",
          "name": "stdout",
          "text": [
            "Ingresa la cantidad de términos de la secuencia de Pell que deseas generar: 6\n",
            "Secuencia de Pell:\n",
            "[0, 1, 2, 5, 12, 29]\n"
          ]
        }
      ]
    },
    {
      "cell_type": "code",
      "source": [
        "# punto 21"
      ],
      "metadata": {
        "id": "oNNKrAakmHTU"
      },
      "execution_count": null,
      "outputs": []
    },
    {
      "cell_type": "code",
      "source": [
        "def calcular_amortizacion(monto_prestamo, tasa_interes, plazo):\n",
        "    amortizacion = []\n",
        "    tasa_interes_decimal = tasa_interes / 100\n",
        "\n",
        "    cuota_mensual = monto_prestamo * (tasa_interes_decimal / 12) / (1 - (1 + tasa_interes_decimal / 12) ** -plazo)\n",
        "\n",
        "    for _ in range(plazo):\n",
        "        interes = monto_prestamo * tasa_interes_decimal / 12\n",
        "        capital = cuota_mensual - interes\n",
        "        monto_prestamo -= capital\n",
        "        amortizacion.append((cuota_mensual, interes, capital, monto_prestamo))\n",
        "\n",
        "    return amortizacion\n",
        "\n",
        "# Ejemplo de uso\n",
        "monto = float(input(\"Ingresa el monto del préstamo: \"))\n",
        "tasa = float(input(\"Ingresa la tasa de interés (%): \"))\n",
        "plazo = int(input(\"Ingresa el plazo en meses: \"))\n",
        "\n",
        "amortizacion_resultado = calcular_amortizacion(monto, tasa, plazo)\n",
        "\n",
        "print(\"\\nAmortización:\")\n",
        "print(\"Cuota Mensual | Interés | Capital | Saldo Pendiente\")\n",
        "for cuota, interes, capital, saldo in amortizacion_resultado:\n",
        "    print(f\"{cuota:.2f} | {interes:.2f} | {capital:.2f} | {saldo:.2f}\")\n"
      ],
      "metadata": {
        "colab": {
          "base_uri": "https://localhost:8080/"
        },
        "id": "Oa4LhINhmJeF",
        "outputId": "78861ddd-9a32-43bc-863a-d2b60e001a82"
      },
      "execution_count": null,
      "outputs": [
        {
          "output_type": "stream",
          "name": "stdout",
          "text": [
            "Ingresa el monto del préstamo: 500\n",
            "Ingresa la tasa de interés (%): 15\n",
            "Ingresa el plazo en meses: 9\n",
            "\n",
            "Amortización:\n",
            "Cuota Mensual | Interés | Capital | Saldo Pendiente\n",
            "59.09 | 6.25 | 52.84 | 447.16\n",
            "59.09 | 5.59 | 53.50 | 393.67\n",
            "59.09 | 4.92 | 54.16 | 339.50\n",
            "59.09 | 4.24 | 54.84 | 284.66\n",
            "59.09 | 3.56 | 55.53 | 229.14\n",
            "59.09 | 2.86 | 56.22 | 172.92\n",
            "59.09 | 2.16 | 56.92 | 115.99\n",
            "59.09 | 1.45 | 57.64 | 58.36\n",
            "59.09 | 0.73 | 58.36 | -0.00\n"
          ]
        }
      ]
    },
    {
      "cell_type": "code",
      "source": [
        "# Punto 22"
      ],
      "metadata": {
        "id": "-E4BIof-nLME"
      },
      "execution_count": null,
      "outputs": []
    },
    {
      "cell_type": "code",
      "source": [
        "n = int(input(\" ingrese el número n: \\n\"))\n",
        "# un numero perfecto es aquel donde sus divisores sumanos dan como resultado el mismo numero\n",
        "i=1 # se empieza desde 1 porque desde 0 todo numero es indefinido\n",
        "total = 0\n",
        "while(i<n):  # ciclo no infinito\n",
        "  if n%i == 0:\n",
        "     total=total+i\n",
        "  i=i+1\n",
        "if total == n:\n",
        "  print(\"Perfecto\")\n",
        "else:\n",
        "  print(\"Imperfecto\")"
      ],
      "metadata": {
        "colab": {
          "base_uri": "https://localhost:8080/"
        },
        "id": "5bQZ9s7xnNkr",
        "outputId": "c5b27d89-3c84-458e-8790-76526b30cd23"
      },
      "execution_count": null,
      "outputs": [
        {
          "output_type": "stream",
          "name": "stdout",
          "text": [
            " ingrese el número n: \n",
            "6\n",
            "Perfecto\n"
          ]
        }
      ]
    },
    {
      "cell_type": "code",
      "source": [
        "# Punto 23"
      ],
      "metadata": {
        "id": "V7-dPOvdpELJ"
      },
      "execution_count": null,
      "outputs": []
    },
    {
      "cell_type": "code",
      "source": [
        "# Definir el diccionario de tasas de interés\n",
        "tasas_interes = {\n",
        "    \"propulsor\": 8.5,\n",
        "    \"casita\": 6.2,\n",
        "    \"primerviaje\": 7.0,\n",
        "    \"estudio pa todos\": 9.3,\n",
        "    \"mi primer carro\": 7.8}\n",
        "\n",
        "# Solicitar al usuario que ingrese un tipo de préstamo\n",
        "tipo_prestamo = input(\"Ingresa un tipo de préstamo (propulsor, casita, primerviaje, estudio pa todos, mi primer carro ): \")\n",
        "\n",
        "# Buscar y mostrar la tasa de interés correspondiente\n",
        "if tipo_prestamo in tasas_interes:\n",
        "    tasa = tasas_interes[tipo_prestamo]\n",
        "    print(f\"La tasa de interés para un préstamo {tipo_prestamo} es: {tasa:.2f}%\")\n",
        "else:\n",
        "    print(\"No tenemos información sobre ese tipo de préstamo.\")\n"
      ],
      "metadata": {
        "colab": {
          "base_uri": "https://localhost:8080/"
        },
        "id": "QxTgtJbHpFi0",
        "outputId": "05b6875e-e31f-422b-cd66-84b3c61932b2"
      },
      "execution_count": null,
      "outputs": [
        {
          "output_type": "stream",
          "name": "stdout",
          "text": [
            "Ingresa un tipo de préstamo (propulsor, casita, primerviaje, estudio pa todos, mi primer carro ): estudio pa todos\n",
            "La tasa de interés para un préstamo estudio pa todos es: 9.30%\n"
          ]
        }
      ]
    },
    {
      "cell_type": "code",
      "source": [
        "# Punto 24\n"
      ],
      "metadata": {
        "id": "zjlZ2IUlrEtU"
      },
      "execution_count": null,
      "outputs": []
    },
    {
      "cell_type": "code",
      "source": [
        "import math # llamamos a math para los ejercicios matematicos\n",
        "\n",
        "def calcular_media_geometrica(lista_numeros):\n",
        "    if not lista_numeros:\n",
        "        return None  # Devolvemos None si la lista está vacía\n",
        "\n",
        "    producto = 1\n",
        "    for numero in lista_numeros:\n",
        "        producto *= numero\n",
        "\n",
        "    media_geometrica = math.pow(producto, 1 / len(lista_numeros))\n",
        "    return media_geometrica\n",
        "\n",
        "numeros = [2, 4, 8, 16, 32, 64, 128, 256]\n",
        "\n",
        "media_geometrica_resultado = calcular_media_geometrica(numeros)\n",
        "\n",
        "if media_geometrica_resultado is not None:\n",
        "    print(f\"La media geométrica de la lista de números es: {media_geometrica_resultado:.2f}\")\n",
        "else:\n",
        "    print(\"La lista de números está vacía, no se puede calcular la media geométrica.\")\n"
      ],
      "metadata": {
        "colab": {
          "base_uri": "https://localhost:8080/"
        },
        "id": "47KDNhEkr0EA",
        "outputId": "aa9fba92-013c-4122-e2a7-8eba87804f45"
      },
      "execution_count": null,
      "outputs": [
        {
          "output_type": "stream",
          "name": "stdout",
          "text": [
            "La media geométrica de la lista de números es: 22.63\n"
          ]
        }
      ]
    },
    {
      "cell_type": "code",
      "source": [
        "# Punto 25"
      ],
      "metadata": {
        "id": "bc4NkzZasG4x"
      },
      "execution_count": null,
      "outputs": []
    },
    {
      "cell_type": "code",
      "source": [
        "def encontrar_segundo_mas_grande(lista_numeros):\n",
        "    if len(lista_numeros) < 2: # len para determinar el tamaño\n",
        "        return None  # Devolvemos None si la lista tiene menos de dos elementos\n",
        "\n",
        "    lista_ordenada = sorted(lista_numeros, reverse=True) #sorted para agregar un orden determinado\n",
        "    segundo_mas_grande = lista_ordenada[1]\n",
        "    return segundo_mas_grande\n",
        "\n",
        "numeros = [15, 7, 22, 11, 18, 5, 9, 14, 52]\n",
        "\n",
        "segundo_mas_grande_resultado = encontrar_segundo_mas_grande(numeros)\n",
        "\n",
        "if segundo_mas_grande_resultado is not None:\n",
        "    print(f\"El segundo número más grande es: {segundo_mas_grande_resultado}\")\n",
        "else:\n",
        "    print(\"La lista de números tiene menos de dos elementos.\")\n"
      ],
      "metadata": {
        "colab": {
          "base_uri": "https://localhost:8080/"
        },
        "id": "7QCnx20FsJhx",
        "outputId": "f7ae2f3a-a4ad-4998-e5ad-437fdf0fd79b"
      },
      "execution_count": null,
      "outputs": [
        {
          "output_type": "stream",
          "name": "stdout",
          "text": [
            "El segundo número más grande es: 22\n"
          ]
        }
      ]
    },
    {
      "cell_type": "code",
      "source": [
        "# Punto 26"
      ],
      "metadata": {
        "id": "FpeduP9Ss77e"
      },
      "execution_count": null,
      "outputs": []
    },
    {
      "cell_type": "code",
      "source": [
        "def generar_serie_lucas(n):\n",
        "    if n == 0:\n",
        "        return []\n",
        "    elif n == 1:\n",
        "        return [2]\n",
        "    elif n == 2:\n",
        "        return [2, 1]\n",
        "    serie = [2, 1]\n",
        "    for i in range(2, n):\n",
        "        siguiente = serie[i - 1] + serie[i - 2]\n",
        "        serie.append(siguiente)\n",
        "    return serie\n",
        "\n",
        "# Solicitar al usuario la cantidad de números que desea generar\n",
        "cantidad_numeros = int(input(\"Ingresa la cantidad de números de la serie de Lucas que deseas generar: \"))\n",
        "\n",
        "# Generar y mostrar la serie de Lucas\n",
        "serie_lucas = generar_serie_lucas(cantidad_numeros)\n",
        "print(\"Serie de Lucas:\")\n",
        "print(serie_lucas)\n"
      ],
      "metadata": {
        "colab": {
          "base_uri": "https://localhost:8080/"
        },
        "id": "DcbAiWAks9ZO",
        "outputId": "a3b048da-adae-492b-b923-ff4fe5482ec4"
      },
      "execution_count": null,
      "outputs": [
        {
          "output_type": "stream",
          "name": "stdout",
          "text": [
            "Ingresa la cantidad de números de la serie de Lucas que deseas generar: 6\n",
            "Serie de Lucas:\n",
            "[2, 1, 3, 4, 7, 11]\n"
          ]
        }
      ]
    },
    {
      "cell_type": "code",
      "source": [
        "# Punto 27"
      ],
      "metadata": {
        "id": "ZtW6NBCQtlt8"
      },
      "execution_count": null,
      "outputs": []
    },
    {
      "cell_type": "code",
      "source": [
        "def calcular_cuota_mensual(monto_prestamo, tasa_interes_anual, plazo_en_meses):\n",
        "    tasa_interes_mensual = tasa_interes_anual / 12 / 100\n",
        "    cuota_mensual = (monto_prestamo * tasa_interes_mensual) / (1 - (1 + tasa_interes_mensual) ** -plazo_en_meses)\n",
        "    return cuota_mensual\n",
        "\n",
        "# Ejemplo de uso\n",
        "monto = float(input(\"Ingresa el monto del préstamo: \"))\n",
        "tasa_anual = float(input(\"Ingresa la tasa de interés anual (%): \"))\n",
        "plazo_meses = int(input(\"Ingresa el plazo en meses: \"))\n",
        "\n",
        "cuota_mensual_resultado = calcular_cuota_mensual(monto, tasa_anual, plazo_meses)\n",
        "\n",
        "print(f\"La cuota mensual del préstamo es: {cuota_mensual_resultado:.2f}\")\n"
      ],
      "metadata": {
        "colab": {
          "base_uri": "https://localhost:8080/"
        },
        "id": "d_8Wb6zRtnyP",
        "outputId": "09718a7c-253d-4351-f55d-f65609b8bf33"
      },
      "execution_count": null,
      "outputs": [
        {
          "output_type": "stream",
          "name": "stdout",
          "text": [
            "Ingresa el monto del préstamo: 500\n",
            "Ingresa la tasa de interés anual (%): 10\n",
            "Ingresa el plazo en meses: 2\n",
            "La cuota mensual del préstamo es: 253.13\n"
          ]
        }
      ]
    },
    {
      "cell_type": "code",
      "source": [
        "# Punto 28"
      ],
      "metadata": {
        "id": "HoqPDixyuG3U"
      },
      "execution_count": null,
      "outputs": []
    },
    {
      "cell_type": "code",
      "source": [
        "def  Armstrong(n):\n",
        "  for i in range(0,n+1):\n",
        "    m = len(str(i))\n",
        "    s = 0\n",
        "    for digitos in str(i):\n",
        "      s += int(digitos)**m\n",
        "    if s == i:\n",
        "      print(i)"
      ],
      "metadata": {
        "id": "enJlOREVuJwW"
      },
      "execution_count": null,
      "outputs": []
    },
    {
      "cell_type": "code",
      "source": [
        "Armstrong(10000)"
      ],
      "metadata": {
        "colab": {
          "base_uri": "https://localhost:8080/"
        },
        "id": "Yv8HoUR6vkDp",
        "outputId": "0ba268da-1c39-412a-9f7e-8aaf4818e87a"
      },
      "execution_count": null,
      "outputs": [
        {
          "output_type": "stream",
          "name": "stdout",
          "text": [
            "0\n",
            "1\n",
            "2\n",
            "3\n",
            "4\n",
            "5\n",
            "6\n",
            "7\n",
            "8\n",
            "9\n",
            "153\n",
            "370\n",
            "371\n",
            "407\n",
            "1634\n",
            "8208\n",
            "9474\n"
          ]
        }
      ]
    },
    {
      "cell_type": "code",
      "source": [
        "# Punto 29"
      ],
      "metadata": {
        "id": "kOseX93Bvq9U"
      },
      "execution_count": null,
      "outputs": []
    },
    {
      "cell_type": "code",
      "source": [
        "# Definir el diccionario de símbolos de moneda y códigos (símbolo: código)\n",
        "monedas = {\n",
        "    \"$\": \"USD\",\n",
        "    \"€\": \"EUR\",\n",
        "    \"£\": \"GBP\",\n",
        "    \"¥\": \"JPY\"}\n",
        "\n",
        "\n",
        "def convertir_moneda(cantidad, moneda_origen, moneda_destino, tasas_cambio):\n",
        "    if moneda_origen not in tasas_cambio or moneda_destino not in tasas_cambio:\n",
        "        return None  # Devolvemos None si no hay tasas de cambio para las monedas\n",
        "\n",
        "    tasa_origen = tasas_cambio[moneda_origen]\n",
        "    tasa_destino = tasas_cambio[moneda_destino]\n",
        "\n",
        "    cantidad_convertida = (cantidad / tasa_origen) * tasa_destino\n",
        "    return cantidad_convertida\n",
        "\n",
        "# Tasas de cambio ficticias (moneda: tasa)\n",
        "tasas_cambio = {\n",
        "    \"USD\": 1.0,\n",
        "    \"EUR\": 0.85,\n",
        "    \"GBP\": 0.73,\n",
        "    \"JPY\": 110.0}\n",
        "\n",
        "\n",
        "cantidad = float(input(\"Ingresa la cantidad de dinero: \"))\n",
        "moneda_origen = input(\"Ingresa el símbolo de la moneda de origen ($, €, £, ¥): \")\n",
        "moneda_destino = input(\"Ingresa el símbolo de la moneda de destino ($, €, £, ¥): \")\n",
        "\n",
        "if moneda_origen in monedas and moneda_destino in monedas:\n",
        "    cantidad_convertida = convertir_moneda(cantidad, monedas[moneda_origen], monedas[moneda_destino], tasas_cambio)\n",
        "    if cantidad_convertida is not None:\n",
        "        print(f\"{cantidad:.2f}{moneda_origen} equivale a {cantidad_convertida:.2f}{moneda_destino}\")\n",
        "    else:\n",
        "        print(\"No hay tasas de cambio para las monedas ingresadas.\")\n",
        "else:\n",
        "    print(\"Símbolos de moneda ingresados inválidos.\")\n"
      ],
      "metadata": {
        "colab": {
          "base_uri": "https://localhost:8080/"
        },
        "id": "uUAtQnP1wVFw",
        "outputId": "33587f91-e0ad-480b-ec73-1c8aee35f0c6"
      },
      "execution_count": null,
      "outputs": [
        {
          "output_type": "stream",
          "name": "stdout",
          "text": [
            "Ingresa la cantidad de dinero: 500\n",
            "Ingresa el símbolo de la moneda de origen ($, €, £, ¥): $\n",
            "Ingresa el símbolo de la moneda de destino ($, €, £, ¥): ¥\n",
            "500.00$ equivale a 55000.00¥\n"
          ]
        }
      ]
    },
    {
      "cell_type": "code",
      "source": [
        "# Punto 30"
      ],
      "metadata": {
        "id": "EGtQ4tfVxCFC"
      },
      "execution_count": null,
      "outputs": []
    },
    {
      "cell_type": "code",
      "source": [
        "import math\n",
        "\n",
        "def calcular_desviacion_estandar(lista_numeros):\n",
        "    if len(lista_numeros) <= 1:\n",
        "        return None  # Devolvemos None si la lista tiene menos de dos elementos\n",
        "\n",
        "    media = sum(lista_numeros) / len(lista_numeros)\n",
        "    suma_cuadrados = sum((numero - media) ** 2 for numero in lista_numeros)\n",
        "    desviacion_estandar = math.sqrt(suma_cuadrados / (len(lista_numeros) - 1))\n",
        "    return desviacion_estandar\n",
        "\n",
        "numeros = [12, 15, 18, 21, 24, 27]\n",
        "\n",
        "desviacion_estandar_resultado = calcular_desviacion_estandar(numeros)\n",
        "\n",
        "if desviacion_estandar_resultado is not None:\n",
        "    print(f\"La desviación estándar de la lista de números es: {desviacion_estandar_resultado:.2f}\")\n",
        "else:\n",
        "    print(\"La lista de números tiene menos de dos elementos.\")\n",
        "\n",
        "\n",
        "\n",
        "\n"
      ],
      "metadata": {
        "colab": {
          "base_uri": "https://localhost:8080/"
        },
        "id": "D-EjyLrbxEI4",
        "outputId": "c0c4c5a4-c7f6-4567-d37f-21b21484e4a4"
      },
      "execution_count": null,
      "outputs": [
        {
          "output_type": "stream",
          "name": "stdout",
          "text": [
            "La desviación estándar de la lista de números es: 5.61\n"
          ]
        }
      ]
    }
  ]
}