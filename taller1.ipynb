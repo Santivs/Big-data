{
  "nbformat": 4,
  "nbformat_minor": 0,
  "metadata": {
    "colab": {
      "provenance": []
    },
    "kernelspec": {
      "name": "python3",
      "display_name": "Python 3"
    },
    "language_info": {
      "name": "python"
    }
  },
  "cells": [
    {
      "cell_type": "code",
      "execution_count": 8,
      "metadata": {
        "id": "mWjiMG9f-T6j"
      },
      "outputs": [],
      "source": [
        "def suma_division(a, b, c):\n",
        "  if type(a)== int and type(b)== int and type(c)== int:\n",
        "    if c == 0:\n",
        "      print(\" No puedo hacer la division\")\n",
        "    else:\n",
        "      operacion = (a + b) / c\n",
        "      print(f\" el numero es {operacion} \")\n",
        "  else:\n",
        "    print(f\"Los Numeros deben ser enteros\")\n"
      ]
    },
    {
      "cell_type": "code",
      "source": [
        "suma_division(\"hola\",4,0)"
      ],
      "metadata": {
        "colab": {
          "base_uri": "https://localhost:8080/"
        },
        "id": "7afbPedn-wsn",
        "outputId": "1d069f3e-96fb-4ce5-87fe-93f8bd0d4c13"
      },
      "execution_count": 11,
      "outputs": [
        {
          "output_type": "stream",
          "name": "stdout",
          "text": [
            "Los Numeros deben ser enteros\n"
          ]
        }
      ]
    },
    {
      "cell_type": "code",
      "source": [],
      "metadata": {
        "id": "BzGaYlblAV0s"
      },
      "execution_count": null,
      "outputs": []
    }
  ]
}